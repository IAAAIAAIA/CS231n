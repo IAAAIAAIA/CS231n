{
 "cells": [
  {
   "cell_type": "code",
   "execution_count": 19,
   "metadata": {
    "collapsed": false
   },
   "outputs": [],
   "source": [
    "import numpy as np\n",
    "import matplotlib.pyplot as plt\n",
    "from scipy import optimize\n",
    "\n",
    "x = np.array(([3,5],[5,1],[10,2]),dtype=float)\n",
    "y = np.array(([75],[82],[93]),dtype=float)\n",
    "x = x/np.amax(x,axis=0)\n",
    "y = y/100\n",
    "\n",
    "class Neural_Network(object):\n",
    "    def __init__(self):\n",
    "        self.inputLayerSize = 2\n",
    "        self.outputLayerSize = 1\n",
    "        self.hiddenLayerSize = 3\n",
    "        self.W1 = np.random.randn(self.inputLayerSize,self.hiddenLayerSize)\n",
    "        self.W2 = np.random.randn(self.hiddenLayerSize,self.outputLayerSize)\n",
    "        \n",
    "    def forward(self,x):\n",
    "        self.z2 = np.dot(x,self.W1)\n",
    "        self.a2 = self.ReLU(self.z2)\n",
    "        self.z3 = np.dot(self.a2,self.W2)\n",
    "        yHat = self.ReLU(self.z3)\n",
    "        return yHat\n",
    "    \n",
    "    def ReLU(self, z):\n",
    "        return np.maximum(0,z)\n",
    "    \n",
    "    def ReLUPrime(self,z):\n",
    "        devReLU = np.zeros(np.shape(z))\n",
    "        devReLU[z>0]=1\n",
    "        return devReLU\n",
    "    \n",
    "    def costFunction(self, x, y):\n",
    "        self.yHat = self.forward(x)\n",
    "        J = 0.5*sum((y-self.yHat)**2)\n",
    "        return J\n",
    "    \n",
    "    def costFunctionPrime(self, x,y):\n",
    "        self.yHat = self.forward(x)\n",
    "        delta3 = np.multiply(-(y-self.yHat),self.ReLUPrime(self.z3))\n",
    "        dJdW2 = np.dot(self.a2.T,delta3)\n",
    "        delta2 = np.dot(delta3,self.W2.T)*self.ReLUPrime(self.z2)\n",
    "        dJdW1 = np.dot(x.T,delta2)\n",
    "        return dJdW1, dJdW2\n",
    "    \n",
    "    def getParams(self):\n",
    "        params = np.concatenate((self.W1.ravel(), self.W2.ravel()))\n",
    "        return params\n",
    "    \n",
    "    def setParams(self, params):\n",
    "        W1_start = 0\n",
    "        W1_end = self.hiddenLayerSize * self.inputLayerSize\n",
    "        self.W1 = np.reshape(params[W1_start:W1_end], (self.inputLayerSize , self.hiddenLayerSize))\n",
    "        W2_end = W1_end + self.hiddenLayerSize*self.outputLayerSize\n",
    "        self.W2 = np.reshape(params[W1_end:W2_end], (self.hiddenLayerSize, self.outputLayerSize))\n",
    "        \n",
    "    def computeGradients(self, x, y):\n",
    "        dJdW1, dJdW2 = self.costFunctionPrime(x, y)\n",
    "        return np.concatenate((dJdW1.ravel(), dJdW2.ravel()))\n",
    "    \n",
    "def computeNumericalGradient(N, x, y):\n",
    "        paramsInitial = N.getParams()\n",
    "        numgrad = np.zeros(paramsInitial.shape)\n",
    "        perturb = np.zeros(paramsInitial.shape)\n",
    "        e = 1e-4\n",
    "        for p in range(len(paramsInitial)):\n",
    "            perturb[p] = e\n",
    "            N.setParams(paramsInitial + perturb)\n",
    "            loss2 = N.costFunction(x, y)\n",
    "            N.setParams(paramsInitial - perturb)\n",
    "            loss1 = N.costFunction(x, y)\n",
    "            numgrad[p] = (loss2 - loss1) / (2*e)\n",
    "            perturb[p] = 0\n",
    "        N.setParams(paramsInitial)\n",
    "\n",
    "        return numgrad"
   ]
  },
  {
   "cell_type": "code",
   "execution_count": 20,
   "metadata": {
    "collapsed": false
   },
   "outputs": [
    {
     "data": {
      "image/png": "[encoded data removed]",
      "text/plain": [
       "<matplotlib.figure.Figure at 0x7faf0e1930d0>"
      ]
     },
     "metadata": {},
     "output_type": "display_data"
    }
   ],
   "source": [
    "def ReLU(z):\n",
    "    return np.maximum(0,z)\n",
    "def ReLUPrime(z):\n",
    "    devReLU = np.zeros(np.shape(z))\n",
    "    devReLU[z>0]=1\n",
    "    return devReLU\n",
    "testInput = np.arange(-6,6,0.01)\n",
    "plt.plot(testInput, ReLU(testInput), linewidth= 2)\n",
    "plt.plot(testInput, ReLUPrime(testInput), linewidth= 2)\n",
    "plt.grid(1)\n",
    "plt.show()"
   ]
  },
  {
   "cell_type": "code",
   "execution_count": 21,
   "metadata": {
    "collapsed": true
   },
   "outputs": [],
   "source": [
    "NN = Neural_Network()"
   ]
  },
  {
   "cell_type": "code",
   "execution_count": 22,
   "metadata": {
    "collapsed": false
   },
   "outputs": [
    {
     "data": {
      "text/plain": [
       "array([-0.59351429,  0.        ,  0.        , -0.44316342,  0.        ,\n",
       "        0.        , -0.78649695,  0.        ,  0.        ])"
      ]
     },
     "execution_count": 22,
     "metadata": {},
     "output_type": "execute_result"
    }
   ],
   "source": [
    "numgrad = computeNumericalGradient(NN, x, y)\n",
    "numgrad\n"
   ]
  },
  {
   "cell_type": "code",
   "execution_count": 23,
   "metadata": {
    "collapsed": false
   },
   "outputs": [
    {
     "data": {
      "text/plain": [
       "array([-0.59351429,  0.        ,  0.        , -0.44316342,  0.        ,\n",
       "        0.        , -0.78649695,  0.        ,  0.        ])"
      ]
     },
     "execution_count": 23,
     "metadata": {},
     "output_type": "execute_result"
    }
   ],
   "source": [
    "grad = NN.computeGradients(x,y)\n",
    "grad"
   ]
  },
  {
   "cell_type": "code",
   "execution_count": 24,
   "metadata": {
    "collapsed": true
   },
   "outputs": [],
   "source": [
    "class trainer(object):\n",
    "    def __init__(self, N):\n",
    "        self.N = N\n",
    "        \n",
    "    def callbackF(self, params):\n",
    "        self.N.setParams(params)\n",
    "        self.J.append(self.N.costFunction(self.x, self.y))   \n",
    "        \n",
    "    def costFunctionWrapper(self, params, x, y):\n",
    "        self.N.setParams(params)\n",
    "        cost = self.N.costFunction(x, y)\n",
    "        grad = self.N.computeGradients(x,y)\n",
    "        \n",
    "        return cost, grad\n",
    "        \n",
    "    def train(self, x, y):\n",
    "        self.x = x\n",
    "        self.y = y\n",
    "        self.J = []\n",
    "        params0 = self.N.getParams()\n",
    "        options = {'maxiter': 200, 'disp' : True}\n",
    "        _res = optimize.minimize(self.costFunctionWrapper, params0, jac=True, method='BFGS', \\\n",
    "                                 args=(x, y), options=options, callback=self.callbackF)\n",
    "        self.N.setParams(_res.x)\n",
    "        self.optimizationResults = _res"
   ]
  },
  {
   "cell_type": "code",
   "execution_count": 25,
   "metadata": {
    "collapsed": true
   },
   "outputs": [],
   "source": [
    "T = trainer(NN)"
   ]
  },
  {
   "cell_type": "code",
   "execution_count": 26,
   "metadata": {
    "collapsed": false
   },
   "outputs": [
    {
     "name": "stdout",
     "output_type": "stream",
     "text": [
      "Optimization terminated successfully.\n",
      "         Current function value: 0.050410\n",
      "         Iterations: 8\n",
      "         Function evaluations: 10\n",
      "         Gradient evaluations: 10\n"
     ]
    }
   ],
   "source": [
    "T.train(x,y)"
   ]
  },
  {
   "cell_type": "code",
   "execution_count": 27,
   "metadata": {
    "collapsed": false
   },
   "outputs": [
    {
     "data": {
      "image/png": "[encoded data removed]",
      "text/plain": [
       "<matplotlib.figure.Figure at 0x7faf14417910>"
      ]
     },
     "metadata": {},
     "output_type": "display_data"
    }
   ],
   "source": [
    "plt.plot(T.J)\n",
    "plt.grid(1)\n",
    "plt.xlabel('Iterations')\n",
    "plt.ylabel('Cost')\n",
    "plt.show()"
   ]
  },
  {
   "cell_type": "code",
   "execution_count": 28,
   "metadata": {
    "collapsed": false
   },
   "outputs": [
    {
     "data": {
      "text/plain": [
       "(array([[ -6.21417876e-08,   0.00000000e+00,   0.00000000e+00],\n",
       "        [ -7.74780090e-07,   0.00000000e+00,   0.00000000e+00]]),\n",
       " array([[ -4.49622274e-07],\n",
       "        [  0.00000000e+00],\n",
       "        [  0.00000000e+00]]))"
      ]
     },
     "execution_count": 28,
     "metadata": {},
     "output_type": "execute_result"
    }
   ],
   "source": [
    "NN.costFunctionPrime(x,y)"
   ]
  },
  {
   "cell_type": "code",
   "execution_count": 29,
   "metadata": {
    "collapsed": false
   },
   "outputs": [
    {
     "data": {
      "text/plain": [
       "array([[ 0.74999913],\n",
       "       [ 0.53600008],\n",
       "       [ 1.07200016]])"
      ]
     },
     "execution_count": 29,
     "metadata": {},
     "output_type": "execute_result"
    }
   ],
   "source": [
    "NN.forward(x)"
   ]
  },
  {
   "cell_type": "code",
   "execution_count": 30,
   "metadata": {
    "collapsed": false
   },
   "outputs": [
    {
     "data": {
      "text/plain": [
       "array([[ 0.75],\n",
       "       [ 0.82],\n",
       "       [ 0.93]])"
      ]
     },
     "execution_count": 30,
     "metadata": {},
     "output_type": "execute_result"
    }
   ],
   "source": [
    "y"
   ]
  },
  {
   "cell_type": "code",
   "execution_count": 31,
   "metadata": {
    "collapsed": true
   },
   "outputs": [],
   "source": [
    "hoursSleep = np.linspace(0, 10, 100)\n",
    "hoursStudy = np.linspace(0, 5, 100)\n",
    "hoursSleepNorm = hoursSleep/10.\n",
    "hoursStudyNorm = hoursStudy/5.\n",
    "a, b  = np.meshgrid(hoursSleepNorm, hoursStudyNorm)\n",
    "allInputs = np.zeros((a.size, 2))\n",
    "allInputs[:, 0] = a.ravel()\n",
    "allInputs[:, 1] = b.ravel()"
   ]
  },
  {
   "cell_type": "code",
   "execution_count": 32,
   "metadata": {
    "collapsed": true
   },
   "outputs": [],
   "source": [
    "allOutputs = NN.forward(allInputs)"
   ]
  },
  {
   "cell_type": "code",
   "execution_count": 33,
   "metadata": {
    "collapsed": false
   },
   "outputs": [
    {
     "data": {
      "image/png": "[encoded data removed]",
      "text/plain": [
       "<matplotlib.figure.Figure at 0x7faf02881310>"
      ]
     },
     "metadata": {},
     "output_type": "display_data"
    }
   ],
   "source": [
    "yy = np.dot(hoursStudy.reshape(100,1), np.ones((1,100)))\n",
    "xx = np.dot(hoursSleep.reshape(100,1), np.ones((1,100))).T\n",
    "\n",
    "CS = plt.contour(xx,yy,100*allOutputs.reshape(100, 100))\n",
    "plt.clabel(CS, inline=1, fontsize=10)\n",
    "plt.xlabel('Hours Sleep')\n",
    "plt.ylabel('Hours Study')\n",
    "plt.show()"
   ]
  },
  {
   "cell_type": "code",
   "execution_count": null,
   "metadata": {
    "collapsed": true
   },
   "outputs": [],
   "source": []
  }
 ],
 "metadata": {
  "kernelspec": {
   "display_name": "Python 2",
   "language": "python",
   "name": "python2"
  },
  "language_info": {
   "codemirror_mode": {
    "name": "ipython",
    "version": 2
   },
   "file_extension": ".py",
   "mimetype": "text/x-python",
   "name": "python",
   "nbconvert_exporter": "python",
   "pygments_lexer": "ipython2",
   "version": "2.7.13"
  }
 },
 "nbformat": 4,
 "nbformat_minor": 2
}
