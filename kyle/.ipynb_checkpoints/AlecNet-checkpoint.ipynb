{
 "cells": [
  {
   "cell_type": "code",
   "execution_count": 258,
   "metadata": {
    "collapsed": false,
    "scrolled": true
   },
   "outputs": [],
   "source": [
    "import numpy as np\n",
    "class Network(object):\n",
    "    def __init__(self):\n",
    "        self.inputLayerSize = 2\n",
    "        self.outputLayerSize = 1\n",
    "        self.hiddenLayerSize = 3\n",
    "        self.W1 = np.random.randn(self.inputLayerSize, self.hiddenLayerSize)\n",
    "        self.W2 = np.random.randn(self.hiddenLayerSize, self.outputLayerSize)\n",
    "        \n",
    "    def foward(self, hours):\n",
    "        self.hours = hours\n",
    "        self.z2 = np.dot(hours, self.W1)\n",
    "        self.a2 = self.sigmoid(self.z2)\n",
    "        self.z3 = np.dot(self.a2, self.W2)\n",
    "        self.yHat = self.sigmoid(self.z3)\n",
    "        return self.yHat\n",
    "    \n",
    "    def backward(self, known, L):\n",
    "        dL_dyHat = -(self.yHat - known)\n",
    "        dy_dz3 = self.dsigmoid(self.z3)\n",
    "        dL_dz3 = dy_dz3 * dL_dyHat\n",
    "        self.dL_dW2 = np.dot(self.a2.T, dL_dz3)\n",
    "        dL_da2 = np.dot(dL_dz3, self.W2.T)\n",
    "        da2_dz2 = self.dsigmoid(self.z2)\n",
    "        dL_dz2 = da2_dz2 * dL_da2\n",
    "        self.dL_dW1 = -np.dot(self.hours.T, dL_dz2)\n",
    "        return self.dL_dW2, self.dL_dW1\n",
    "        \n",
    "    def sigmoid(self, z):\n",
    "        return 1/(1+np.exp(-z))\n",
    "    \n",
    "    def dsigmoid(self, z):\n",
    "        return (1/(np.square(1+np.exp(-z)))*(-np.exp(-z)))\n",
    "    \n",
    "    def dmatrix(self, z, W):\n",
    "        ans = np.ones(z.shape[0], z.shape[1])\n",
    "        return ans * W.T\n",
    "    \n",
    "    def getParams(self):\n",
    "        return np.concatenate((self.W1.ravel(), self.W2.ravel()))\n",
    "    \n",
    "    def setParams(self, params):\n",
    "        W1_start = 0\n",
    "        W1_end = self.inputLayerSize * self.hiddenLayerSize\n",
    "        self.W1 = np.reshape(params[W1_start:W1_end], (self.inputLayerSize, self.hiddenLayerSize))\n",
    "        self.W2 = np.reshape(params[W1_end:], (self.hiddenLayerSize, self.outputLayerSize))\n",
    "    \n",
    "    def computeNumericalGrad(self, X, y):\n",
    "        paramsInitial = self.getParams()\n",
    "        perturb = np.zeros(paramsInitial.shape)\n",
    "        numgrad = np.zeros(paramsInitial.shape)\n",
    "        e = .0001\n",
    "        for i in range(len(paramsInitial)):\n",
    "            perturb[i] = e\n",
    "            self.setParams(paramsInitial + perturb)\n",
    "            loss1 = self.cost(self.foward(X), y)\n",
    "            self.setParams(paramsInitial - perturb)\n",
    "            loss2 = self.cost(self.foward(X), y)\n",
    "            numgrad[i] = np.sum((loss1 - loss2)/(2*e))\n",
    "            perturb[i] = 0\n",
    "        self.setParams(paramsInitial)\n",
    "        return numgrad\n",
    "        \n",
    "    def cost(self, y, yHat):\n",
    "        return .5 * np.square(yHat - y)"
   ]
  },
  {
   "cell_type": "code",
   "execution_count": 259,
   "metadata": {
    "collapsed": false
   },
   "outputs": [
    {
     "name": "stdout",
     "output_type": "stream",
     "text": [
      "[[ 0.49229881]\n",
      " [ 0.73828107]\n",
      " [ 0.49108675]]\n"
     ]
    }
   ],
   "source": [
    "x = Network()\n",
    "hours = np.array(([5,1], [6,30], [7,2]))\n",
    "scores = np.array(([.3], [.1], [.85]))\n",
    "L = x.foward(hours)\n",
    "print L"
   ]
  },
  {
   "cell_type": "code",
   "execution_count": 260,
   "metadata": {
    "collapsed": false
   },
   "outputs": [
    {
     "name": "stdout",
     "output_type": "stream",
     "text": [
      "(array([[-0.00703768],\n",
      "       [ 0.06285392],\n",
      "       [-0.04197113]]), array([[ -1.96495897e-01,   1.56575937e-01,   6.39921354e-04],\n",
      "       [ -9.71323497e-01,   7.66641663e-01,   4.94924199e-04]]))\n"
     ]
    }
   ],
   "source": [
    "L = x.cost(L, scores)\n",
    "print x.backward(scores, L)"
   ]
  },
  {
   "cell_type": "code",
   "execution_count": 261,
   "metadata": {
    "collapsed": false
   },
   "outputs": [
    {
     "name": "stdout",
     "output_type": "stream",
     "text": [
      "[ -1.96495895e-01   1.56575940e-01   6.39921538e-04  -9.71323195e-01\n",
      "   7.66642004e-01   4.94924206e-04  -7.03767636e-03   6.28539194e-02\n",
      "  -4.19711337e-02]\n"
     ]
    }
   ],
   "source": [
    "print x.computeNumericalGrad(hours, scores)"
   ]
  },
  {
   "cell_type": "code",
   "execution_count": null,
   "metadata": {
    "collapsed": true
   },
   "outputs": [],
   "source": []
  },
  {
   "cell_type": "code",
   "execution_count": null,
   "metadata": {
    "collapsed": true
   },
   "outputs": [],
   "source": []
  }
 ],
 "metadata": {
  "anaconda-cloud": {},
  "kernelspec": {
   "display_name": "Python [conda root]",
   "language": "python",
   "name": "conda-root-py"
  },
  "language_info": {
   "codemirror_mode": {
    "name": "ipython",
    "version": 2
   },
   "file_extension": ".py",
   "mimetype": "text/x-python",
   "name": "python",
   "nbconvert_exporter": "python",
   "pygments_lexer": "ipython2",
   "version": "2.7.12"
  }
 },
 "nbformat": 4,
 "nbformat_minor": 1
}
