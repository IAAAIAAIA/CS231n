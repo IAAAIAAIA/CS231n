{
 "cells": [
  {
   "cell_type": "code",
   "execution_count": 2,
   "metadata": {
    "collapsed": false,
    "scrolled": true
   },
   "outputs": [],
   "source": [
    "import numpy as np\n",
    "class Network(object):\n",
    "    def __init__(self):\n",
    "        self.inputLayerSize = 2\n",
    "        self.outputLayerSize = 1\n",
    "        self.hiddenLayerSize = 3\n",
    "        self.W1 = np.random.randn(self.inputLayerSize, self.hiddenLayerSize) / np.sqrt(self.inputLayerSize)\n",
    "        self.W2 = np.random.randn(self.hiddenLayerSize, self.outputLayerSize) / np.sqrt(self.hiddenLayerSize)\n",
    "        self.Lambda = .0001\n",
    "        \n",
    "    def forward(self, hours):\n",
    "        self.hours = hours\n",
    "        self.z2 = np.dot(hours, self.W1)\n",
    "        self.a2 = self.sigmoid(self.z2)\n",
    "        self.z3 = np.dot(self.a2, self.W2)\n",
    "        self.yHat = self.sigmoid(self.z3)\n",
    "        return self.yHat\n",
    "    \n",
    "    def backward(self, known, L):\n",
    "        dL_dyHat = -(known - self.yHat)\n",
    "        dy_dz3 = self.dsigmoid(self.z3)\n",
    "        dL_dz3 = dy_dz3 * dL_dyHat\n",
    "        self.dL_dW2 = -np.dot(self.a2.T, dL_dz3) + self.Lambda*self.W2\n",
    "        dL_da2 = np.dot(dL_dz3, self.W2.T)\n",
    "        da2_dz2 = self.dsigmoid(self.z2)\n",
    "        dL_dz2 = da2_dz2 * dL_da2\n",
    "        self.dL_dW1 = np.dot(self.hours.T, dL_dz2) + self.Lambda*self.W1\n",
    "        return self.dL_dW1, self.dL_dW2\n",
    "        \n",
    "    def sigmoid(self, z):\n",
    "        return 1/(1+np.exp(-z))\n",
    "    \n",
    "    def dsigmoid(self, z):\n",
    "        return (1/(np.square(1+np.exp(-z)))*(-np.exp(-z)))\n",
    "    \n",
    "    def dmatrix(self, z, W):\n",
    "        ans = np.ones(z.shape[0], z.shape[1])\n",
    "        return ans * W.T\n",
    "    \n",
    "    def getParams(self):\n",
    "        return np.concatenate((self.W1.ravel(), self.W2.ravel()))\n",
    "    \n",
    "    def setParams(self, params):\n",
    "        W1_start = 0\n",
    "        W1_end = self.inputLayerSize * self.hiddenLayerSize\n",
    "        self.W1 = np.reshape(params[W1_start:W1_end], (self.inputLayerSize, self.hiddenLayerSize))\n",
    "        self.W2 = np.reshape(params[W1_end:], (self.hiddenLayerSize, self.outputLayerSize))\n",
    "    \n",
    "    def computeNumericalGrad(self, X, y):\n",
    "        paramsInitial = self.getParams()\n",
    "        perturb = np.zeros(paramsInitial.shape)\n",
    "        numgrad = np.zeros(paramsInitial.shape)\n",
    "        e = .0001\n",
    "        for i in range(len(paramsInitial)):\n",
    "            perturb[i] = e\n",
    "            self.setParams(paramsInitial + perturb)\n",
    "            loss1 = self.cost(self.forward(X), y)\n",
    "            self.setParams(paramsInitial - perturb)\n",
    "            loss2 = self.cost(self.forward(X), y)\n",
    "            numgrad[i] = np.sum((loss1 - loss2)/(2*e))\n",
    "            perturb[i] = 0\n",
    "        self.setParams(paramsInitial)\n",
    "        return numgrad\n",
    "        \n",
    "    def cost(self, y, yHat):\n",
    "        return np.sum(.5 * np.square(yHat - y)) + (self.Lambda/2)*(np.sum(self.W1**2) + np.sum(self.W2**2))\n",
    "    \n",
    "    def computeGradients(self, X, y):\n",
    "        dJdW1, dJdW2 = self.backward(y, self.cost(self.forward(X), y))\n",
    "        return np.concatenate((dJdW1.ravel(), dJdW2.ravel()))"
   ]
  },
  {
   "cell_type": "code",
   "execution_count": 3,
   "metadata": {
    "collapsed": false
   },
   "outputs": [
    {
     "name": "stdout",
     "output_type": "stream",
     "text": [
      "[[ 0.36425323]\n",
      " [ 0.46209686]\n",
      " [ 0.68468144]\n",
      " [ 0.54003424]]\n"
     ]
    }
   ],
   "source": [
    "net = Network()\n",
    "hours = np.array(([3,5], [5,1], [10,2], [6,1.5]))\n",
    "scores = np.array(([.75], [.82], [.93], [.70]))\n",
    "hours -= np.mean(hours, axis=0)\n",
    "L = net.forward(hours)\n",
    "print L"
   ]
  },
  {
   "cell_type": "code",
   "execution_count": 4,
   "metadata": {
    "collapsed": false
   },
   "outputs": [
    {
     "name": "stdout",
     "output_type": "stream",
     "text": [
      "(array([[ 0.02180643,  0.00118815, -0.01077804],\n",
      "       [ 0.03372359, -0.00403026, -0.01521841]]), array([[-0.10531911],\n",
      "       [-0.13258084],\n",
      "       [-0.1470845 ]]))\n"
     ]
    }
   ],
   "source": [
    "L = net.cost(L, scores)\n",
    "print net.backward(scores, L)"
   ]
  },
  {
   "cell_type": "code",
   "execution_count": 5,
   "metadata": {
    "collapsed": false
   },
   "outputs": [
    {
     "name": "stdout",
     "output_type": "stream",
     "text": [
      "[ 0.02180643  0.00118815 -0.01077804  0.03372359 -0.00403026 -0.01521841\n",
      " -0.10531911 -0.13258084 -0.1470845 ]\n"
     ]
    }
   ],
   "source": [
    "print net.computeNumericalGrad(hours, scores)"
   ]
  },
  {
   "cell_type": "code",
   "execution_count": 6,
   "metadata": {
    "collapsed": true
   },
   "outputs": [],
   "source": [
    "from scipy import optimize"
   ]
  },
  {
   "cell_type": "code",
   "execution_count": 7,
   "metadata": {
    "collapsed": true
   },
   "outputs": [],
   "source": [
    "class trainer(object):\n",
    "    def __init__(self, NN):\n",
    "        self.NN = NN\n",
    "        \n",
    "    def costWrapper(self, params, X, y):\n",
    "        self.NN.setParams(params)\n",
    "        cost = self.NN.cost(self.NN.forward(X), y)\n",
    "        grad = self.NN.computeGradients(X, y)\n",
    "        return cost, grad\n",
    "    \n",
    "    def callBack(self, params):\n",
    "        self.NN.setParams(params)\n",
    "        self.J.append(self.NN.cost(self.NN.forward(self.X), self.y))\n",
    "    \n",
    "    def train(self, X, y): \n",
    "        self.X = X\n",
    "        self.y = y\n",
    "        self.J = []\n",
    "        params = self.NN.getParams()\n",
    "        options = {'maxiter':200, 'disp': True}\n",
    "        magic = optimize.minimize(self.costWrapper, params, jac=True, method='BFGS', args=(X,y), \\\n",
    "                                  options=options, callback=self.callBack)\n",
    "        self.X = magic.x\n",
    "        self.optimization = magic"
   ]
  },
  {
   "cell_type": "code",
   "execution_count": 8,
   "metadata": {
    "collapsed": false
   },
   "outputs": [
    {
     "name": "stdout",
     "output_type": "stream",
     "text": [
      "Optimization terminated successfully.\n",
      "         Current function value: 0.003103\n",
      "         Iterations: 165\n",
      "         Function evaluations: 177\n",
      "         Gradient evaluations: 177\n",
      "[[ 0.74978596]\n",
      " [ 0.79379575]\n",
      " [ 0.92138955]\n",
      " [ 0.72372216]]\n",
      "[[ 0.75]\n",
      " [ 0.82]\n",
      " [ 0.93]\n",
      " [ 0.7 ]]\n"
     ]
    }
   ],
   "source": [
    "training = trainer(net)\n",
    "training.train(hours, scores)\n",
    "print net.forward(hours)\n",
    "print scores"
   ]
  },
  {
   "cell_type": "code",
   "execution_count": null,
   "metadata": {
    "collapsed": true
   },
   "outputs": [],
   "source": []
  },
  {
   "cell_type": "code",
   "execution_count": null,
   "metadata": {
    "collapsed": true
   },
   "outputs": [],
   "source": []
  }
 ],
 "metadata": {
  "anaconda-cloud": {},
  "kernelspec": {
   "display_name": "Python 2",
   "language": "python",
   "name": "python2"
  },
  "language_info": {
   "codemirror_mode": {
    "name": "ipython",
    "version": 2
   },
   "file_extension": ".py",
   "mimetype": "text/x-python",
   "name": "python",
   "nbconvert_exporter": "python",
   "pygments_lexer": "ipython2",
   "version": "2.7.13"
  }
 },
 "nbformat": 4,
 "nbformat_minor": 1
}
