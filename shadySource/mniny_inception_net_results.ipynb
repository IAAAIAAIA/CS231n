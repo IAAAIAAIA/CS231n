{
 "cells": [
  {
   "cell_type": "code",
   "execution_count": 1,
   "metadata": {
    "collapsed": false
   },
   "outputs": [
    {
     "name": "stderr",
     "output_type": "stream",
     "text": [
      "Using TensorFlow backend.\n"
     ]
    }
   ],
   "source": [
    "from mniny_inception_net import evaluate_ensemble"
   ]
  },
  {
   "cell_type": "code",
   "execution_count": 2,
   "metadata": {
    "collapsed": false
   },
   "outputs": [
    {
     "name": "stdout",
     "output_type": "stream",
     "text": [
      "weights/snap-model5-3.h5\n",
      "weights/snap-model2-1.h5\n",
      "weights/snap-model13-Best.h5\n",
      "weights/snap-model3-1.h5\n",
      "weights/snap-model16-1.h5\n",
      "weights/snap-model15-Best.h5\n",
      "weights/snap-model1-1.h5\n",
      "weights/snap-model13-3.h5\n",
      "weights/snap-model12-4.h5\n",
      "weights/snap-model10-Best.h5\n",
      "weights/snap-model11-2.h5\n",
      "weights/snap-model5-1.h5\n",
      "weights/snap-model5-Best.h5\n",
      "weights/snap-model9-4.h5\n",
      "weights/snap-model11-1.h5\n",
      "weights/snap-model16-4.h5\n",
      "weights/snap-model14-Best.h5\n",
      "weights/snap-model8-Best.h5\n",
      "weights/snap-model6-4.h5\n",
      "weights/snap-model7-1.h5\n",
      "weights/snap-model2-2.h5\n",
      "weights/snap-model1-4.h5\n",
      "weights/snap-model14-5.h5\n",
      "weights/snap-model5-2.h5\n",
      "weights/snap-model7-5.h5\n",
      "weights/snap-model9-3.h5\n",
      "weights/snap-model11-3.h5\n",
      "weights/snap-model14-2.h5\n",
      "weights/snap-model0-1.h5\n",
      "weights/snap-model3-2.h5\n",
      "weights/snap-model7-4.h5\n",
      "weights/snap-model4-3.h5\n",
      "weights/snap-model15-2.h5\n",
      "weights/snap-model12-2.h5\n",
      "weights/snap-model7-2.h5\n",
      "weights/snap-model10-5.h5\n",
      "weights/snap-model3-3.h5\n",
      "weights/snap-model8-2.h5\n",
      "weights/snap-model11-5.h5\n",
      "weights/snap-model6-3.h5\n",
      "weights/snap-model9-5.h5\n",
      "weights/snap-model8-5.h5\n",
      "weights/snap-model12-1.h5\n",
      "weights/snap-model5-5.h5\n",
      "weights/snap-model3-5.h5\n",
      "weights/snap-model6-5.h5\n",
      "weights/snap-model1-Best.h5\n",
      "weights/snap-model10-3.h5\n",
      "weights/snap-model6-Best.h5\n",
      "weights/snap-model9-2.h5\n",
      "weights/snap-model16-3.h5\n",
      "weights/snap-model12-3.h5\n",
      "weights/snap-model4-1.h5\n",
      "weights/snap-model4-5.h5\n",
      "weights/snap-model0-4.h5\n",
      "weights/snap-model10-4.h5\n",
      "weights/snap-model3-4.h5\n",
      "weights/snap-model4-Best.h5\n",
      "weights/snap-model0-Best.h5\n",
      "weights/snap-model15-5.h5\n",
      "weights/snap-model8-4.h5\n",
      "weights/snap-model9-1.h5\n",
      "weights/snap-model11-Best.h5\n",
      "weights/snap-model8-1.h5\n",
      "weights/snap-model13-1.h5\n",
      "weights/snap-model9-Best.h5\n",
      "weights/snap-model5-4.h5\n",
      "weights/snap-model10-1.h5\n",
      "weights/snap-model2-Best.h5\n",
      "weights/snap-model1-5.h5\n",
      "weights/snap-model3-Best.h5\n",
      "weights/snap-model13-2.h5\n",
      "weights/snap-model6-1.h5\n",
      "weights/snap-model12-5.h5\n",
      "weights/snap-model13-5.h5\n",
      "weights/snap-model14-3.h5\n",
      "weights/snap-model11-4.h5\n",
      "weights/snap-model16-Best.h5\n",
      "weights/snap-model15-4.h5\n",
      "weights/snap-model15-3.h5\n",
      "weights/snap-model0-5.h5\n",
      "weights/snap-model14-1.h5\n",
      "weights/snap-model2-3.h5\n",
      "weights/snap-model16-2.h5\n",
      "weights/snap-model4-4.h5\n",
      "weights/snap-model7-Best.h5\n",
      "weights/snap-model1-3.h5\n",
      "weights/snap-model13-4.h5\n",
      "weights/snap-model15-1.h5\n",
      "weights/snap-model0-2.h5\n",
      "weights/snap-model7-3.h5\n",
      "weights/snap-model10-2.h5\n",
      "weights/snap-model14-4.h5\n",
      "weights/snap-model2-4.h5\n",
      "weights/snap-model2-5.h5\n",
      "weights/snap-model4-2.h5\n",
      "weights/snap-model6-2.h5\n",
      "weights/snap-model0-3.h5\n",
      "weights/snap-model1-2.h5\n",
      "weights/snap-model8-3.h5\n",
      "weights/snap-model12-Best.h5\n",
      "<class 'numpy.ndarray'>\n",
      "<class 'numpy.ndarray'>\n",
      "<class 'tensorflow.python.framework.ops.Tensor'>\n",
      "<class 'tensorflow.python.framework.ops.Tensor'>\n",
      "--------------------------------------\n",
      "ensemble\n",
      "Test loss: 0.0109548584128\n",
      "error: 0.340002775192%\n",
      "--------------------------------------\n"
     ]
    }
   ],
   "source": [
    "evaluate_ensemble(False)"
   ]
  },
  {
   "cell_type": "code",
   "execution_count": 3,
   "metadata": {
    "collapsed": false
   },
   "outputs": [
    {
     "name": "stdout",
     "output_type": "stream",
     "text": [
      "weights/snap-model13-Best.h5\n",
      "weights/snap-model15-Best.h5\n",
      "weights/snap-model10-Best.h5\n",
      "weights/snap-model5-Best.h5\n",
      "weights/snap-model14-Best.h5\n",
      "weights/snap-model8-Best.h5\n",
      "weights/snap-model1-Best.h5\n",
      "weights/snap-model6-Best.h5\n",
      "weights/snap-model4-Best.h5\n",
      "weights/snap-model0-Best.h5\n",
      "weights/snap-model11-Best.h5\n",
      "weights/snap-model9-Best.h5\n",
      "weights/snap-model2-Best.h5\n",
      "weights/snap-model3-Best.h5\n",
      "weights/snap-model16-Best.h5\n",
      "weights/snap-model7-Best.h5\n",
      "weights/snap-model12-Best.h5\n",
      "<class 'numpy.ndarray'>\n",
      "<class 'numpy.ndarray'>\n",
      "<class 'tensorflow.python.framework.ops.Tensor'>\n",
      "<class 'tensorflow.python.framework.ops.Tensor'>\n",
      "--------------------------------------\n",
      "ensemble\n",
      "Test loss: 0.0100604627563\n",
      "error: 0.330001115799%\n",
      "--------------------------------------\n"
     ]
    }
   ],
   "source": [
    "evaluate_ensemble(True)"
   ]
  },
  {
   "cell_type": "code",
   "execution_count": null,
   "metadata": {
    "collapsed": true
   },
   "outputs": [],
   "source": []
  }
 ],
 "metadata": {
  "anaconda-cloud": {},
  "kernelspec": {
   "display_name": "Python [default]",
   "language": "python",
   "name": "python3"
  },
  "language_info": {
   "codemirror_mode": {
    "name": "ipython",
    "version": 3
   },
   "file_extension": ".py",
   "mimetype": "text/x-python",
   "name": "python",
   "nbconvert_exporter": "python",
   "pygments_lexer": "ipython3",
   "version": "3.5.2"
  }
 },
 "nbformat": 4,
 "nbformat_minor": 2
}
