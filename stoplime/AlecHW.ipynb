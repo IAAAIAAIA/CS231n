{
 "cells": [
  {
   "cell_type": "code",
   "execution_count": 1,
   "metadata": {
    "collapsed": true
   },
   "outputs": [],
   "source": [
    "import numpy as np\n",
    "from scipy import optimize\n",
    "import matplotlib.pyplot as plt"
   ]
  },
  {
   "cell_type": "code",
   "execution_count": 30,
   "metadata": {
    "collapsed": true
   },
   "outputs": [],
   "source": [
    "x = np.array(([3,5], [5,1], [10,2]), dtype=float)\n",
    "g_y = np.array(([75], [82], [93]), dtype=float)\n",
    "x = x/np.amax(x, axis=0)\n",
    "g_y = g_y/100"
   ]
  },
  {
   "cell_type": "code",
   "execution_count": 31,
   "metadata": {
    "collapsed": false
   },
   "outputs": [],
   "source": [
    "\n",
    "class neural_net(object):\n",
    "    def __init__(self):\n",
    "        # the hyperparams\n",
    "        self.input_size = 2\n",
    "        self.output_size = 1\n",
    "        self.hidden_size = 3\n",
    "        \n",
    "        # initial weights\n",
    "        self.w1 = np.random.randn(self.input_size, self.hidden_size)\n",
    "        self.w2 = np.random.randn(self.hidden_size, self.output_size)\n",
    "        \n",
    "    def forward(self, input_x):\n",
    "        self.z2 = np.dot(input_x, self.w1)\n",
    "        self.a2 = self.sigmoid(self.z2)\n",
    "        self.z3 = np.dot(self.a2, self.w2)\n",
    "        output_y = self.sigmoid(self.z3)\n",
    "        return output_y\n",
    "        \n",
    "    def sigmoid(self, input_z):\n",
    "        return 1/(1+np.exp(-input_z))\n",
    "    \n",
    "    def sigmoid_prime(self, input_z):\n",
    "        return np.exp(-input_z)/((1+np.exp(-input_z))**2)\n",
    "    \n",
    "    def cost_function(self, input_x, ground_truth_y):\n",
    "        #Compute cost for given X,y, use weights already stored in class.\n",
    "        self.output_y = self.forward(input_x)\n",
    "        J = 0.5*sum((ground_truth_y-self.output_y)**2)\n",
    "        return J\n",
    "    \n",
    "    def cost_function_prime(self, input_x, ground_truth_y):\n",
    "        self.output_y = self.forward(input_x)\n",
    "        \n",
    "        delta_3 = np.multiply(-(ground_truth_y-self.output_y), self.sigmoid_prime(self.z3))\n",
    "        dj_dw2 = np.dot(self.a2.T, delta_3)\n",
    "        \n",
    "        delta_2 = np.dot(delta_3, self.w2.T)*self.sigmoid_prime(self.z2)\n",
    "        dj_dw1 = np.dot(input_x.T, delta_2)\n",
    "        \n",
    "        return dj_dw1, dj_dw2\n",
    "    \n",
    "    #Helper Functions for interacting with other classes:\n",
    "    def getParams(self):\n",
    "        #Get W1 and W2 unrolled into vector:\n",
    "        params = np.concatenate((self.w1.ravel(), self.w2.ravel()))\n",
    "        return params\n",
    "    \n",
    "    def setParams(self, params):\n",
    "        #Set W1 and W2 using single paramater vector.\n",
    "        w1_start = 0\n",
    "        w1_end = self.hidden_size * self.input_size\n",
    "        self.w1 = np.reshape(params[w1_start:w1_end], (self.input_size , self.hidden_size))\n",
    "        w2_end = w1_end + self.hidden_size*self.output_size\n",
    "        self.w2 = np.reshape(params[w1_end:w2_end], (self.hidden_size, self.output_size))\n",
    "        \n",
    "    def computeGradients(self, input_x, output_y):\n",
    "        dj_dw1, dj_dw2 = self.cost_function_prime(input_x, output_y)\n",
    "        return np.concatenate((dj_dw1.ravel(), dj_dw2.ravel()))"
   ]
  },
  {
   "cell_type": "code",
   "execution_count": 32,
   "metadata": {
    "collapsed": true
   },
   "outputs": [],
   "source": [
    "def numerical_gradient(N, input_x, output_y):\n",
    "    paramsInitial = N.getParams()\n",
    "    numgrad = np.zeros(paramsInitial.shape)\n",
    "    perturb = np.zeros(paramsInitial.shape)\n",
    "    e = 1e-4\n",
    "\n",
    "    for p in range(len(paramsInitial)):\n",
    "        #Set perturbation vector\n",
    "        perturb[p] = e\n",
    "        N.setParams(paramsInitial + perturb)\n",
    "        loss2 = N.cost_function(input_x, output_y)\n",
    "\n",
    "        N.setParams(paramsInitial - perturb)\n",
    "        loss1 = N.cost_function(input_x, output_y)\n",
    "\n",
    "        #Compute Numerical Gradient\n",
    "        numgrad[p] = (loss2 - loss1) / (2*e)\n",
    "\n",
    "        #Return the value we changed to zero:\n",
    "        perturb[p] = 0\n",
    "\n",
    "    #Return Params to original value:\n",
    "    N.setParams(paramsInitial)\n",
    "\n",
    "    return numgrad"
   ]
  },
  {
   "cell_type": "code",
   "execution_count": 33,
   "metadata": {
    "collapsed": false
   },
   "outputs": [],
   "source": [
    "nn = neural_net()"
   ]
  },
  {
   "cell_type": "code",
   "execution_count": 34,
   "metadata": {
    "collapsed": false
   },
   "outputs": [],
   "source": [
    "numgrad = numerical_gradient(nn, x, g_y)\n",
    "grad = nn.computeGradients(x, g_y)"
   ]
  },
  {
   "cell_type": "code",
   "execution_count": 35,
   "metadata": {
    "collapsed": false
   },
   "outputs": [
    {
     "data": {
      "text/plain": [
       "array([ 0.02535343, -0.0423393 ,  0.01906175,  0.01990608, -0.02732608,\n",
       "        0.01583025, -0.14797417, -0.08235112, -0.13121987])"
      ]
     },
     "execution_count": 35,
     "metadata": {},
     "output_type": "execute_result"
    }
   ],
   "source": [
    "numgrad"
   ]
  },
  {
   "cell_type": "code",
   "execution_count": 36,
   "metadata": {
    "collapsed": false
   },
   "outputs": [
    {
     "data": {
      "text/plain": [
       "array([ 0.02535343, -0.0423393 ,  0.01906175,  0.01990608, -0.02732608,\n",
       "        0.01583025, -0.14797417, -0.08235112, -0.13121987])"
      ]
     },
     "execution_count": 36,
     "metadata": {},
     "output_type": "execute_result"
    }
   ],
   "source": [
    "grad"
   ]
  },
  {
   "cell_type": "code",
   "execution_count": 37,
   "metadata": {
    "collapsed": false
   },
   "outputs": [
    {
     "data": {
      "text/plain": [
       "1.1775772329670421e-10"
      ]
     },
     "execution_count": 37,
     "metadata": {},
     "output_type": "execute_result"
    }
   ],
   "source": [
    "np.sum(grad-numgrad)/np.sum(grad+numgrad)"
   ]
  },
  {
   "cell_type": "code",
   "execution_count": 38,
   "metadata": {
    "collapsed": true
   },
   "outputs": [],
   "source": [
    "class trainer(object):\n",
    "    def __init__(self, N):\n",
    "        self.n = N\n",
    "        \n",
    "    def callback_function(self, params):\n",
    "        self.n.setParams(params)\n",
    "        self.j.append(self.n.cost_function(self.input_x, self.ground_truth_y))\n",
    "        \n",
    "    def cost_function_wrapper(self, params, input_x, ground_truth_y):\n",
    "        self.n.setParams(params)\n",
    "        cost = self.n.cost_function(input_x, ground_truth_y)\n",
    "        grad = self.n.computeGradients(input_x, ground_truth_y)\n",
    "        \n",
    "        return cost, grad\n",
    "        \n",
    "    def train(self, input_x, ground_truth_y):\n",
    "        #Make an internal variable for the callback function:\n",
    "        self.input_x = input_x\n",
    "        self.ground_truth_y = ground_truth_y\n",
    "\n",
    "        #Make empty list to store costs:\n",
    "        self.j = []\n",
    "        \n",
    "        params0 = self.n.getParams()\n",
    "\n",
    "        options = {'maxiter': 200, 'disp' : True}\n",
    "        _res = optimize.minimize(self.cost_function_wrapper, params0, jac=True, method='BFGS', \\\n",
    "                                 args=(input_x, ground_truth_y), options=options, callback=self.callback_function)\n",
    "\n",
    "        self.n.setParams(_res.x)\n",
    "        self.optimizationResults = _res"
   ]
  },
  {
   "cell_type": "code",
   "execution_count": 39,
   "metadata": {
    "collapsed": false
   },
   "outputs": [
    {
     "name": "stdout",
     "output_type": "stream",
     "text": [
      "Optimization terminated successfully.\n",
      "         Current function value: 0.000000\n",
      "         Iterations: 71\n",
      "         Function evaluations: 75\n",
      "         Gradient evaluations: 75\n"
     ]
    }
   ],
   "source": [
    "T = trainer(nn)\n",
    "T.train(x, g_y)"
   ]
  },
  {
   "cell_type": "code",
   "execution_count": 40,
   "metadata": {
    "collapsed": false
   },
   "outputs": [
    {
     "data": {
      "image/png": "[encoded data removed]",
      "text/plain": [
       "<matplotlib.figure.Figure at 0x7f5b1b0e4fd0>"
      ]
     },
     "metadata": {},
     "output_type": "display_data"
    }
   ],
   "source": [
    "plt.plot(T.j)\n",
    "plt.grid(1)\n",
    "plt.xlabel('Iterations')\n",
    "plt.ylabel('Cost')\n",
    "plt.show()"
   ]
  },
  {
   "cell_type": "code",
   "execution_count": null,
   "metadata": {
    "collapsed": true
   },
   "outputs": [],
   "source": []
  },
  {
   "cell_type": "code",
   "execution_count": null,
   "metadata": {
    "collapsed": true
   },
   "outputs": [],
   "source": [
    "yy = np.dot(hoursStudy.reshape(100,1), np.ones((1,100)))\n",
    "xx = np.dot(hoursSleep.reshape(100,1), np.ones((1,100))).T\n",
    "\n",
    "CS = contour(xx,yy,100*allOutputs.reshape(100, 100))\n",
    "clabel(CS, inline=1, fontsize=10)\n",
    "xlabel('Hours Sleep')\n",
    "ylabel('Hours Study')"
   ]
  },
  {
   "cell_type": "code",
   "execution_count": 41,
   "metadata": {
    "collapsed": false
   },
   "outputs": [
    {
     "ename": "NameError",
     "evalue": "name 'xx' is not defined",
     "output_type": "error",
     "traceback": [
      "\u001b[0;31m---------------------------------------------------------------------------\u001b[0m",
      "\u001b[0;31mNameError\u001b[0m                                 Traceback (most recent call last)",
      "\u001b[0;32m<ipython-input-41-ed39c13bab35>\u001b[0m in \u001b[0;36m<module>\u001b[0;34m()\u001b[0m\n\u001b[1;32m      3\u001b[0m \u001b[0max\u001b[0m \u001b[0;34m=\u001b[0m \u001b[0mfig\u001b[0m\u001b[0;34m.\u001b[0m\u001b[0mgca\u001b[0m\u001b[0;34m(\u001b[0m\u001b[0mprojection\u001b[0m\u001b[0;34m=\u001b[0m\u001b[0;34m'3d'\u001b[0m\u001b[0;34m)\u001b[0m\u001b[0;34m\u001b[0m\u001b[0m\n\u001b[1;32m      4\u001b[0m \u001b[0;34m\u001b[0m\u001b[0m\n\u001b[0;32m----> 5\u001b[0;31m \u001b[0msurf\u001b[0m \u001b[0;34m=\u001b[0m \u001b[0max\u001b[0m\u001b[0;34m.\u001b[0m\u001b[0mplot_surface\u001b[0m\u001b[0;34m(\u001b[0m\u001b[0mxx\u001b[0m\u001b[0;34m,\u001b[0m \u001b[0myy\u001b[0m\u001b[0;34m,\u001b[0m \u001b[0;36m100\u001b[0m\u001b[0;34m*\u001b[0m\u001b[0mallOutputs\u001b[0m\u001b[0;34m.\u001b[0m\u001b[0mreshape\u001b[0m\u001b[0;34m(\u001b[0m\u001b[0;36m100\u001b[0m\u001b[0;34m,\u001b[0m \u001b[0;36m100\u001b[0m\u001b[0;34m)\u001b[0m\u001b[0;34m,\u001b[0m                        \u001b[0mcmap\u001b[0m\u001b[0;34m=\u001b[0m\u001b[0mcm\u001b[0m\u001b[0;34m.\u001b[0m\u001b[0mjet\u001b[0m\u001b[0;34m)\u001b[0m\u001b[0;34m\u001b[0m\u001b[0m\n\u001b[0m\u001b[1;32m      6\u001b[0m \u001b[0;34m\u001b[0m\u001b[0m\n\u001b[1;32m      7\u001b[0m \u001b[0max\u001b[0m\u001b[0;34m.\u001b[0m\u001b[0mset_xlabel\u001b[0m\u001b[0;34m(\u001b[0m\u001b[0;34m'Hours Sleep'\u001b[0m\u001b[0;34m)\u001b[0m\u001b[0;34m\u001b[0m\u001b[0m\n",
      "\u001b[0;31mNameError\u001b[0m: name 'xx' is not defined"
     ]
    }
   ],
   "source": [
    "from mpl_toolkits.mplot3d import Axes3D\n",
    "fig = plt.figure()\n",
    "ax = fig.gca(projection='3d')\n",
    "\n",
    "surf = ax.plot_surface(xx, yy, 100*allOutputs.reshape(100, 100), \\\n",
    "                       cmap=cm.jet)\n",
    "\n",
    "ax.set_xlabel('Hours Sleep')\n",
    "ax.set_ylabel('Hours Study')\n",
    "ax.set_zlabel('Test Score')"
   ]
  },
  {
   "cell_type": "code",
   "execution_count": null,
   "metadata": {
    "collapsed": true
   },
   "outputs": [],
   "source": []
  }
 ],
 "metadata": {
  "kernelspec": {
   "display_name": "Python 3",
   "language": "python",
   "name": "python3"
  },
  "language_info": {
   "codemirror_mode": {
    "name": "ipython",
    "version": 3
   },
   "file_extension": ".py",
   "mimetype": "text/x-python",
   "name": "python",
   "nbconvert_exporter": "python",
   "pygments_lexer": "ipython3",
   "version": "3.6.0"
  }
 },
 "nbformat": 4,
 "nbformat_minor": 2
}
